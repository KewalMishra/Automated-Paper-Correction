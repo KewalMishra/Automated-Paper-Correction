{
 "nbformat": 4,
 "nbformat_minor": 2,
 "metadata": {
  "language_info": {
   "name": "python",
   "codemirror_mode": {
    "name": "ipython",
    "version": 3
   },
   "version": "3.7.6-final"
  },
  "orig_nbformat": 2,
  "file_extension": ".py",
  "mimetype": "text/x-python",
  "name": "python",
  "npconvert_exporter": "python",
  "pygments_lexer": "ipython3",
  "version": 3,
  "kernelspec": {
   "name": "python3",
   "display_name": "Python 3"
  }
 },
 "cells": [
  {
   "cell_type": "code",
   "execution_count": 1,
   "metadata": {},
   "outputs": [],
   "source": [
    "import io\n",
    "import os\n",
    "import json\n",
    "import argparse\n",
    "from enum import Enum\n",
    "from pprint import pprint\n",
    "from google.cloud import vision\n",
    "from google.cloud.vision import types\n",
    "\n",
    "# setting GCP creds\n",
    "os.environ[\"GOOGLE_APPLICATION_CREDENTIALS\"] = \"Paper Correction-59f4c4bd6353.json\"\n",
    "misc_files = os.getcwd() + '/misc_files'\n",
    "\n",
    "\n",
    "class vision_ocr:\n",
    "    def __init__(self, img_file):\n",
    "        self.img = str(img_file)\n",
    "\n",
    "    def OCR(self):\n",
    "        img = self.img\n",
    "        client = vision.ImageAnnotatorClient()\n",
    "        with io.open(img, 'rb') as imagefile:\n",
    "            content = imagefile.read()\n",
    "        image = types.Image(content=content)\n",
    "        response = client.document_text_detection(image=image)\n",
    "        return response\n",
    "\n",
    "    def parse_text(self, response):\n",
    "        text = response.full_text_annotation.text\n",
    "        return text\n",
    ""
   ]
  },
  {
   "cell_type": "code",
   "execution_count": 6,
   "metadata": {},
   "outputs": [],
   "source": [
    "myclass = vision_ocr('/Users/parthchudasama/Projects/Automated-paper-correction/test_images/S1_3.jpeg')\n",
    "myobj = myclass.OCR()\n",
    "text = myclass.parse_text(myobj)"
   ]
  },
  {
   "cell_type": "code",
   "execution_count": 7,
   "metadata": {},
   "outputs": [
    {
     "output_type": "stream",
     "name": "stdout",
     "text": "('Ql. It was a German National Assembly made up!\\n'\n 'of muldle class professionals, businessmen &\\n'\n 'artisans belonging to different German regions.\\n'\n 'It was convened on 18 May, 1848 in the\\n'\n 'Church of St. Paul, Frankfurt. The\\n'\n 'assembly was responsible for drafting a\\n'\n 'constitution for Germany which was to le\\n'\n 'headed by a monarchy ruler Be that as\\n'\n 'it may, it confronted resistance from the\\n'\n 'prerleged and military was additionally\\n'\n 'ruled by the middle class as a result of\\n'\n 'which it lost its mass support base and\\n'\n 'was shut down.\\n'\n '02. Patriotic stroms developed in the Balkans\\n'\n 'because of the spread of ideas of romantic\\n'\n 'nationalism as also the breaking down of\\n'\n 'the Ottoman Empire that had recently\\n'\n 'administered over this territory. All the\\n'\n 'different Slavic communities in the\\n'\n 'Balkans werd envious of one another and\\n'\n 'each state wanted more area. Also, the\\n'\n 'hold of imperial power over the Balkans\\n'\n 'me worsened the situation. Russia, Germany,\\n'\n 'England , Asistro - Hungary all wonted more!\\n'\n 'control over this zone which brought\\n'\n 'about the first world war in 1914.\\n'\n 'Q3. Iwo escomples to show the contribution\\n'\n 'of culture to the growth of nationalism :\\n'\n 'Naam has anti-bacterial properties which\\n'\n 'mom e\\n'\n 'n\\n'\n 't\\n')\n"
    }
   ],
   "source": [
    "import pprint\n",
    "pprint.pprint(text)\n",
    "with open('result.txt','a') as f:\n",
    "    f.write(text)"
   ]
  },
  {
   "cell_type": "code",
   "execution_count": 2,
   "metadata": {},
   "outputs": [],
   "source": [
    "import os\n",
    "os.mkdir('test')"
   ]
  },
  {
   "cell_type": "code",
   "execution_count": 4,
   "metadata": {},
   "outputs": [],
   "source": [
    "import shutil\n",
    "shutil.rmtree('test/')"
   ]
  },
  {
   "cell_type": "code",
   "execution_count": 1,
   "metadata": {},
   "outputs": [],
   "source": [
    "import re\n",
    "y = re.compile(r'S_[0-9]')"
   ]
  },
  {
   "cell_type": "code",
   "execution_count": 4,
   "metadata": {},
   "outputs": [
    {
     "output_type": "execute_result",
     "data": {
      "text/plain": "True"
     },
     "metadata": {},
     "execution_count": 4
    }
   ],
   "source": [
    "k  = 'S_1'\n",
    "bool(y.match(k))"
   ]
  },
  {
   "cell_type": "code",
   "execution_count": 1,
   "metadata": {},
   "outputs": [],
   "source": [
    "import glob, os\n",
    ""
   ]
  },
  {
   "cell_type": "code",
   "execution_count": 15,
   "metadata": {},
   "outputs": [
    {
     "output_type": "stream",
     "name": "stdout",
     "text": "/Users/parthchudasama/Projects/paper-bitbucket/paper-correction/server/student_files/student_0.pdf\n/Users/parthchudasama/Projects/paper-bitbucket/paper-correction/server/preprocessed/S1/S1.pdf\n"
    }
   ],
   "source": [
    "import glob, os\n",
    "PATH_PAPERS = os.getcwd() \n",
    "for root, dirs, files in os.walk(PATH_PAPERS):\n",
    "        for file in files:\n",
    "            if file.endswith(\".pdf\"):\n",
    "                print(os.path.join(root, file))\n",
    "\n",
    ""
   ]
  },
  {
   "cell_type": "code",
   "execution_count": 21,
   "metadata": {},
   "outputs": [],
   "source": [
    "import zipfile\n",
    "\n",
    "zipf = zipfile.ZipFile('Student_results.zip', 'w', )\n",
    "for root, dirs, files in os.walk(PATH_PAPERS):\n",
    "    for file in files:\n",
    "        if file.endswith(\".pdf\"):\n",
    "            zipf.write(os.path.join(root, file),basename(os.path.join(root, file)))\n",
    "zipf.close()\n",
    ""
   ]
  },
  {
   "cell_type": "code",
   "execution_count": 18,
   "metadata": {},
   "outputs": [
    {
     "output_type": "execute_result",
     "data": {
      "text/plain": "'student_0.pdf'"
     },
     "metadata": {},
     "execution_count": 18
    }
   ],
   "source": [
    "from os.path import basename\n",
    "basename('/Users/parthchudasama/Projects/paper-bitbucket/paper-correction/server/student_files/student_0.pdf')"
   ]
  },
  {
   "cell_type": "code",
   "execution_count": 22,
   "metadata": {},
   "outputs": [
    {
     "output_type": "execute_result",
     "data": {
      "text/plain": "['.DS_Store',\n 'secret_key.json',\n 'Student_results.zip',\n 'student_files',\n 'preprocessed',\n '__init__.py',\n '__pycache__',\n 'OCR.py',\n 'preprocessing.py',\n 'static',\n 'app.py',\n 'templates',\n 'misc_files',\n 'tmp',\n 'scrap.ipynb',\n 'report.py']"
     },
     "metadata": {},
     "execution_count": 22
    }
   ],
   "source": [
    "os.listdir()"
   ]
  },
  {
   "cell_type": "code",
   "execution_count": null,
   "metadata": {},
   "outputs": [],
   "source": []
  }
 ]
}